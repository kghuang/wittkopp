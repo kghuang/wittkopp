{
 "cells": [
  {
   "cell_type": "code",
   "execution_count": 2,
   "metadata": {},
   "outputs": [],
   "source": [
    "import csv\n",
    "csv_file = open('network_out.tsv')\n",
    "csv_reader = csv.reader(csv_file, delimiter='\\t')\n",
    "line = 0 # corresponds to column\n",
    "counts = [] # keeps track of counts for each gene\n",
    "titles = [] # names of the genes"
   ]
  },
  {
   "cell_type": "code",
   "execution_count": 8,
   "metadata": {},
   "outputs": [
    {
     "ename": "IndexError",
     "evalue": "list index out of range",
     "output_type": "error",
     "traceback": [
      "\u001b[1;31m---------------------------------------------------------------------------\u001b[0m",
      "\u001b[1;31mIndexError\u001b[0m                                Traceback (most recent call last)",
      "\u001b[1;32m<ipython-input-8-04bea9e1b8dc>\u001b[0m in \u001b[0;36m<module>\u001b[1;34m\u001b[0m\n\u001b[0;32m     16\u001b[0m             \u001b[1;32mbreak\u001b[0m\u001b[1;33m\u001b[0m\u001b[1;33m\u001b[0m\u001b[0m\n\u001b[0;32m     17\u001b[0m         \u001b[1;31m# count calculations (i - 1 because we skip first row above)\u001b[0m\u001b[1;33m\u001b[0m\u001b[1;33m\u001b[0m\u001b[1;33m\u001b[0m\u001b[0m\n\u001b[1;32m---> 18\u001b[1;33m         \u001b[0mcounts\u001b[0m\u001b[1;33m[\u001b[0m\u001b[0mi\u001b[0m\u001b[1;33m-\u001b[0m\u001b[1;36m1\u001b[0m\u001b[1;33m]\u001b[0m\u001b[1;33m[\u001b[0m\u001b[1;34m\"c\"\u001b[0m\u001b[1;33m]\u001b[0m \u001b[1;33m+=\u001b[0m \u001b[1;33m(\u001b[0m\u001b[0mrow\u001b[0m\u001b[1;33m[\u001b[0m\u001b[1;36m2464\u001b[0m\u001b[1;33m]\u001b[0m \u001b[1;33m==\u001b[0m \u001b[1;34m\"Yes\"\u001b[0m \u001b[1;32mand\u001b[0m \u001b[0mcol\u001b[0m \u001b[1;33m==\u001b[0m \u001b[1;34m\"1\"\u001b[0m\u001b[1;33m)\u001b[0m\u001b[1;33m\u001b[0m\u001b[1;33m\u001b[0m\u001b[0m\n\u001b[0m\u001b[0;32m     19\u001b[0m         \u001b[0mcounts\u001b[0m\u001b[1;33m[\u001b[0m\u001b[0mi\u001b[0m\u001b[1;33m-\u001b[0m\u001b[1;36m1\u001b[0m\u001b[1;33m]\u001b[0m\u001b[1;33m[\u001b[0m\u001b[1;34m\"n\"\u001b[0m\u001b[1;33m]\u001b[0m \u001b[1;33m+=\u001b[0m \u001b[0mint\u001b[0m\u001b[1;33m(\u001b[0m\u001b[0mcol\u001b[0m\u001b[1;33m)\u001b[0m\u001b[1;33m\u001b[0m\u001b[1;33m\u001b[0m\u001b[0m\n\u001b[0;32m     20\u001b[0m         \u001b[0mi\u001b[0m \u001b[1;33m+=\u001b[0m \u001b[1;36m1\u001b[0m\u001b[1;33m\u001b[0m\u001b[1;33m\u001b[0m\u001b[0m\n",
      "\u001b[1;31mIndexError\u001b[0m: list index out of range"
     ]
    }
   ],
   "source": [
    "for row in csv_reader:\n",
    "    # for first row, record all gene names\n",
    "    if line == 0: \n",
    "        line += 1\n",
    "        titles = row[1:-19]\n",
    "        # initialize counts for each gene\n",
    "        for j in range(len(titles)):\n",
    "            counts.append({\"c\": 0, \"n\": 0})\n",
    "        continue\n",
    "    i = 0\n",
    "    for col in row:\n",
    "        if i == 0: # skip first column\n",
    "            i = 1\n",
    "            continue\n",
    "        if i >= 2446: # skip the last 19 columns\n",
    "            break\n",
    "        # count calculations (i - 1 because we skip first row above)\n",
    "        counts[i-1][\"c\"] += (row[2464] == \"Yes\" and col == \"1\")\n",
    "        counts[i-1][\"n\"] += int(col)\n",
    "        i += 1\n",
    "    line += 1\n",
    "\n",
    "\n",
    "results = [titles, []]\n",
    "i = 0\n",
    "# calculate proportions\n",
    "for t in results[0]:\n",
    "    if counts[i][\"n\"] == 0:\n",
    "        results[1].append(0)\n",
    "    else:\n",
    "        results[1].append(float(counts[i][\"c\"]) / float(counts[i][\"n\"]))\n",
    "    i += 1\n",
    "# make new file with results\n",
    "out_file = open(\"results.csv\", \"w\")\n",
    "for row in results:\n",
    "    for item in row:\n",
    "        out_file.write(str(item) + \",\")\n",
    "    out_file.write(\"\\n\")\n"
   ]
  },
  {
   "cell_type": "code",
   "execution_count": null,
   "metadata": {},
   "outputs": [],
   "source": []
  }
 ],
 "metadata": {
  "kernelspec": {
   "display_name": "Python 3",
   "language": "python",
   "name": "python3"
  },
  "language_info": {
   "codemirror_mode": {
    "name": "ipython",
    "version": 3
   },
   "file_extension": ".py",
   "mimetype": "text/x-python",
   "name": "python",
   "nbconvert_exporter": "python",
   "pygments_lexer": "ipython3",
   "version": "3.8.3"
  }
 },
 "nbformat": 4,
 "nbformat_minor": 4
}
