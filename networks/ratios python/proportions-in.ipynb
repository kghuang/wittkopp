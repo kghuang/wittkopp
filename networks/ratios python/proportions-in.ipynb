{
 "cells": [
  {
   "cell_type": "code",
   "execution_count": 78,
   "metadata": {},
   "outputs": [
    {
     "name": "stdout",
     "output_type": "stream",
     "text": [
      "['Name', 'YAL051W', 'YBL005W', 'YBL021C', 'YBL103C', 'YBR049C', 'YBR083W', 'YBR182C', 'YBR239C', 'YBR297W', 'YCR065W', 'YCR084C', 'YDL020C', 'YDL056W', 'YDL106C', 'YDL170W', 'YDR043C', 'YDR123C', 'YDR146C', 'YDR174W', 'YDR207C', 'YDR213W', 'YDR216W', 'YDR253C', 'YDR259C', 'YDR310C', 'YDR421W', 'YDR423C', 'YDR451C', 'YDR463W', 'YDR520C', 'YEL009C', 'YER040W', 'YER111C', 'YER169W', 'YFL021W', 'YFL031W', 'YFR034C', 'YGL013C', 'YGL035C', 'YGL071W', 'YGL073W', 'YGL096W', 'YGL166W', 'YGL209W', 'YGL237C', 'YGL252C', 'YGR044C', 'YGR249W', 'YHL009C', 'YHL020C', 'YHL027W', 'YHR084W', 'YHR124W', 'YHR178W', 'YHR206W', 'YIL036W', 'YIL101C', 'YIL131C', 'YIR017C', 'YIR018W', 'YIR023W', 'YIR033W', 'YJL056C', 'YJL089W', 'YJL110C', 'YJR060W', 'YKL015W', 'YKL020C', 'YKL032C', 'YKL038W', 'YKL043W', 'YKL062W', 'YKL109W', 'YKL112W', 'YKL185W', 'YKR034W', 'YKR099W', 'YLR013W', 'YLR014C', 'YLR131C', 'YLR176C', 'YLR223C', 'YLR228C', 'YLR256W', 'YLR403W', 'YLR451W', 'YML007W', 'YML027W', 'YML099C', 'YMR016C', 'YMR019W', 'YMR021C', 'YMR037C', 'YMR042W', 'YMR043W', 'YMR070W', 'YMR164C', 'YMR172W', 'YMR182C', 'YMR280C', 'YNL027W', 'YNL068C', 'YNL103W', 'YNL167C', 'YNL199C', 'YNL216W', 'YNL314W', 'YOL028C', 'YOL067C', 'YOL089C', 'YOL108C', 'YOL116W', 'YOR028C', 'YOR032C', 'YOR162C', 'YOR230W', 'YOR344C', 'YOR358W', 'YOR363C', 'YPL038W', 'YPL075W', 'YPL089C', 'YPL133C', 'YPL177C', 'YPL202C', 'YPL248C', 'YPR065W', 'YPR104C', 'YPR199C', 'sums', 'comparison', 'P1', 'P2', 'H1', 'H2', 'T1', 'T2', 'total_diff', 'cis_diff', 'trans_diff', 'cis_percent', 'total_reads', 'haplosufficiency', 'pvalsPar1.adj', 'pvalsHyb1.adj', 'DiffYN', 'DiffYN_par']\n",
      "['YAL051W', 'YBL005W', 'YBL021C', 'YBL103C', 'YBR049C', 'YBR083W', 'YBR182C', 'YBR239C', 'YBR297W', 'YCR065W', 'YCR084C', 'YDL020C', 'YDL056W', 'YDL106C', 'YDL170W', 'YDR043C', 'YDR123C', 'YDR146C', 'YDR174W', 'YDR207C', 'YDR213W', 'YDR216W', 'YDR253C', 'YDR259C', 'YDR310C', 'YDR421W', 'YDR423C', 'YDR451C', 'YDR463W', 'YDR520C', 'YEL009C', 'YER040W', 'YER111C', 'YER169W', 'YFL021W', 'YFL031W', 'YFR034C', 'YGL013C', 'YGL035C', 'YGL071W', 'YGL073W', 'YGL096W', 'YGL166W', 'YGL209W', 'YGL237C', 'YGL252C', 'YGR044C', 'YGR249W', 'YHL009C', 'YHL020C', 'YHL027W', 'YHR084W', 'YHR124W', 'YHR178W', 'YHR206W', 'YIL036W', 'YIL101C', 'YIL131C', 'YIR017C', 'YIR018W', 'YIR023W', 'YIR033W', 'YJL056C', 'YJL089W', 'YJL110C', 'YJR060W', 'YKL015W', 'YKL020C', 'YKL032C', 'YKL038W', 'YKL043W', 'YKL062W', 'YKL109W', 'YKL112W', 'YKL185W', 'YKR034W', 'YKR099W', 'YLR013W', 'YLR014C', 'YLR131C', 'YLR176C', 'YLR223C', 'YLR228C', 'YLR256W', 'YLR403W', 'YLR451W', 'YML007W', 'YML027W', 'YML099C', 'YMR016C', 'YMR019W', 'YMR021C', 'YMR037C', 'YMR042W', 'YMR043W', 'YMR070W', 'YMR164C', 'YMR172W', 'YMR182C', 'YMR280C', 'YNL027W', 'YNL068C', 'YNL103W', 'YNL167C', 'YNL199C', 'YNL216W', 'YNL314W', 'YOL028C', 'YOL067C', 'YOL089C', 'YOL108C', 'YOL116W', 'YOR028C', 'YOR032C', 'YOR162C', 'YOR230W', 'YOR344C', 'YOR358W', 'YOR363C', 'YPL038W', 'YPL075W', 'YPL089C', 'YPL133C', 'YPL177C', 'YPL202C', 'YPL248C', 'YPR065W', 'YPR104C', 'YPR199C']\n",
      "YAL003W\n",
      "Yes\n",
      "{'c': 0, 'n': 0}\n"
     ]
    },
    {
     "ename": "ValueError",
     "evalue": "invalid literal for int() with base 10: 'YAL003W'",
     "output_type": "error",
     "traceback": [
      "\u001b[1;31m---------------------------------------------------------------------------\u001b[0m",
      "\u001b[1;31mValueError\u001b[0m                                Traceback (most recent call last)",
      "\u001b[1;32m<ipython-input-78-d7258d299fa7>\u001b[0m in \u001b[0;36m<module>\u001b[1;34m\u001b[0m\n\u001b[0;32m     32\u001b[0m             \u001b[0mprint\u001b[0m\u001b[1;33m(\u001b[0m\u001b[0mcounts\u001b[0m\u001b[1;33m[\u001b[0m\u001b[0mi\u001b[0m\u001b[1;33m-\u001b[0m\u001b[1;36m1\u001b[0m\u001b[1;33m]\u001b[0m\u001b[1;33m)\u001b[0m\u001b[1;33m\u001b[0m\u001b[1;33m\u001b[0m\u001b[0m\n\u001b[0;32m     33\u001b[0m             \u001b[0mcounts\u001b[0m\u001b[1;33m[\u001b[0m\u001b[0mi\u001b[0m\u001b[1;33m]\u001b[0m\u001b[1;33m[\u001b[0m\u001b[1;34m\"c\"\u001b[0m\u001b[1;33m]\u001b[0m \u001b[1;33m+=\u001b[0m \u001b[1;33m(\u001b[0m\u001b[0mrow\u001b[0m\u001b[1;33m[\u001b[0m\u001b[1;33m-\u001b[0m\u001b[1;36m1\u001b[0m\u001b[1;33m]\u001b[0m \u001b[1;33m==\u001b[0m \u001b[1;34m\"Yes\"\u001b[0m \u001b[1;32mand\u001b[0m \u001b[0mcol\u001b[0m \u001b[1;33m==\u001b[0m \u001b[1;34m\"1\"\u001b[0m\u001b[1;33m)\u001b[0m\u001b[1;33m\u001b[0m\u001b[1;33m\u001b[0m\u001b[0m\n\u001b[1;32m---> 34\u001b[1;33m             \u001b[0mcounts\u001b[0m\u001b[1;33m[\u001b[0m\u001b[0mi\u001b[0m\u001b[1;33m]\u001b[0m\u001b[1;33m[\u001b[0m\u001b[1;34m\"n\"\u001b[0m\u001b[1;33m]\u001b[0m \u001b[1;33m+=\u001b[0m \u001b[0mint\u001b[0m\u001b[1;33m(\u001b[0m\u001b[0mcol\u001b[0m\u001b[1;33m)\u001b[0m\u001b[1;33m\u001b[0m\u001b[1;33m\u001b[0m\u001b[0m\n\u001b[0m\u001b[0;32m     35\u001b[0m             \u001b[0mi\u001b[0m \u001b[1;33m+=\u001b[0m \u001b[1;36m1\u001b[0m\u001b[1;33m\u001b[0m\u001b[1;33m\u001b[0m\u001b[0m\n\u001b[0;32m     36\u001b[0m         \u001b[0mline\u001b[0m \u001b[1;33m+=\u001b[0m \u001b[1;36m1\u001b[0m\u001b[1;33m\u001b[0m\u001b[1;33m\u001b[0m\u001b[0m\n",
      "\u001b[1;31mValueError\u001b[0m: invalid literal for int() with base 10: 'YAL003W'"
     ]
    }
   ],
   "source": [
    "import csv\n",
    "from csv import reader\n",
    "#csv_file = open('network.csv')\n",
    "#csv_reader = csv.reader(csv_file, delimiter=' ')\n",
    "line = 0 # corresponds to column\n",
    "counts = [] # keeps track of counts for each gene\n",
    "titles = [] # names of the genes\n",
    "\n",
    "with open('network.csv', 'r') as read_obj:\n",
    "    csv_reader = reader(read_obj) \n",
    "    for row in csv_reader:\n",
    "    # for first row, record all gene names\n",
    "        if line == 0: \n",
    "            line += 1\n",
    "            print(row)\n",
    "            titles = row[1:-18]\n",
    "            print(titles)\n",
    "            # initialize counts for each gene\n",
    "            for j in range(len(titles)):\n",
    "                counts.append({\"c\": 0, \"n\": 0})\n",
    "            continue\n",
    "        i = 1\n",
    "        for col in row:\n",
    "            if i == 0: # skip first column\n",
    "                i = 1\n",
    "                continue\n",
    "            if i >= 131: # skip the last 18 columns\n",
    "                break\n",
    "            # count calculations (i - 1 because we skip first row above)\n",
    "            print(col)\n",
    "            print(row[-1])\n",
    "            print(counts[i-1])\n",
    "            counts[i][\"c\"] += (row[-1] == \"Yes\" and col == \"1\")\n",
    "            counts[i][\"n\"] += int(col)\n",
    "            i += 1\n",
    "        line += 1\n",
    "    \n",
    "results = [titles, []]\n",
    "i = 0\n",
    "# calculate proportions\n",
    "for t in results[0]:\n",
    "    if counts[i][\"n\"] == 0:\n",
    "        results[1].append(0)\n",
    "    else:\n",
    "        results[1].append(float(counts[i][\"c\"]) / float(counts[i][\"n\"]))\n",
    "    i += 1\n",
    "\n",
    "# make new file with results\n",
    "#out_file = open(\"results_in.csv\", \"w\")\n",
    "#for row in results:\n",
    "#    for item in row:\n",
    "#        out_file.write(str(item) + \",\")\n",
    "#    out_file.write(\"\\n\")\n"
   ]
  }
 ],
 "metadata": {
  "kernelspec": {
   "display_name": "Python 3",
   "language": "python",
   "name": "python3"
  },
  "language_info": {
   "codemirror_mode": {
    "name": "ipython",
    "version": 3
   },
   "file_extension": ".py",
   "mimetype": "text/x-python",
   "name": "python",
   "nbconvert_exporter": "python",
   "pygments_lexer": "ipython3",
   "version": "3.8.3"
  }
 },
 "nbformat": 4,
 "nbformat_minor": 4
}
