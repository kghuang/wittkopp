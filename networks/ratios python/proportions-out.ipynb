{
 "cells": [
  {
   "cell_type": "code",
   "execution_count": 2,
   "metadata": {},
   "outputs": [],
   "source": [
    "import csv\n",
    "csv_file = open('new_network_out.tsv')\n",
    "csv_reader = csv.reader(csv_file, delimiter='\\t')\n",
    "line = 0 # corresponds to column\n",
    "counts = [] # keeps track of counts for each gene\n",
    "titles = [] # names of the genes\n",
    "\n",
    "for row in csv_reader:\n",
    "    # for first row, record all gene names\n",
    "    if line == 0: \n",
    "        line += 1\n",
    "        titles = row[1:-5]\n",
    "        # initialize counts for each gene\n",
    "        for j in range(len(titles)):\n",
    "            counts.append({\"c\": 0, \"n\": 0})\n",
    "        continue\n",
    "    i = 0\n",
    "    for col in row:\n",
    "        if i == 0: # skip first column\n",
    "            i = 1\n",
    "            continue\n",
    "        if i >= 198: # skip the last 6 columns\n",
    "            break\n",
    "        # count calculations (i - 1 because we skip first row above)\n",
    "        counts[i-1][\"c\"] += (row[-1] == \"Yes\" and col == \"1\")\n",
    "        counts[i-1][\"n\"] += int(col)\n",
    "        i += 1\n",
    "    line += 1\n",
    "\n",
    "\n",
    "results = [titles, []]\n",
    "i = 0\n",
    "# calculate proportions\n",
    "for t in results[0]:\n",
    "    if counts[i][\"n\"] == 0:\n",
    "        results[1].append(0)\n",
    "    else:\n",
    "        results[1].append(float(counts[i][\"c\"]) / float(counts[i][\"n\"]))\n",
    "    i += 1\n",
    "# make new file with results\n",
    "out_file = open(\"new_out_results.csv\", \"w\")\n",
    "for row in results:\n",
    "    for item in row:\n",
    "        out_file.write(str(item) + \",\")\n",
    "    out_file.write(\"\\n\")\n"
   ]
  }
 ],
 "metadata": {
  "kernelspec": {
   "display_name": "Python 3",
   "language": "python",
   "name": "python3"
  },
  "language_info": {
   "codemirror_mode": {
    "name": "ipython",
    "version": 3
   },
   "file_extension": ".py",
   "mimetype": "text/x-python",
   "name": "python",
   "nbconvert_exporter": "python",
   "pygments_lexer": "ipython3",
   "version": "3.8.3"
  }
 },
 "nbformat": 4,
 "nbformat_minor": 4
}
